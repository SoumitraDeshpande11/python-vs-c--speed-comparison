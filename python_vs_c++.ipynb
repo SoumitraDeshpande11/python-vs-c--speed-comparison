{
 "cells": [
  {
   "cell_type": "code",
   "execution_count": null,
   "metadata": {},
   "outputs": [],
   "source": [
    "import time \n",
    "n = 0\n",
    "start = time.time()\n",
    "while n < 1000000000:\n",
    "    n+=1\n",
    "print(n)\n",
    "end = time.time()\n",
    "elapsed = end - start \n",
    "print(f\"Execution time: {elapsed:.6f} seconds\")\n",
    "\n"
   ]
  },
  {
   "cell_type": "code",
   "execution_count": null,
   "metadata": {
    "vscode": {
     "languageId": "cpp"
    }
   },
   "outputs": [],
   "source": [
    "%%cpp\n",
    "#include <iostream>\n",
    "#include <chrono> \n",
    "\n",
    "int main() {\n",
    "   \n",
    "    auto start = std::chrono::high_resolution_clock::now();\n",
    "\n",
    "    \n",
    "    for (long long i = 1; i <= 1000000000; ++i) {\n",
    "        \n",
    "    }\n",
    "\n",
    "\n",
    "    auto end = std::chrono::high_resolution_clock::now();\n",
    "\n",
    "    \n",
    "    std::chrono::duration<double> duration = end - start;\n",
    "\n",
    "    \n",
    "    std::cout << \"Time taken to count to one billion: \" << duration.count() << \" seconds\" << std::endl;\n",
    "\n",
    "    return 0;\n",
    "}\n"
   ]
  },
  {
   "cell_type": "markdown",
   "metadata": {},
   "source": [
    "this was a short ande simple experiment to check the efficiency in different languages as evident its seen c++ prevailed in counting till a billion\n",
    "\n",
    "python - Execution time: 38.024279 seconds\n",
    "c++ - Execution time : 2.123456 seconds\n",
    " "
   ]
  }
 ],
 "metadata": {
  "kernelspec": {
   "display_name": "Python 3",
   "language": "python",
   "name": "python3"
  },
  "language_info": {
   "codemirror_mode": {
    "name": "ipython",
    "version": 3
   },
   "file_extension": ".py",
   "mimetype": "text/x-python",
   "name": "python",
   "nbconvert_exporter": "python",
   "pygments_lexer": "ipython3",
   "version": "3.12.6"
  }
 },
 "nbformat": 4,
 "nbformat_minor": 2
}
